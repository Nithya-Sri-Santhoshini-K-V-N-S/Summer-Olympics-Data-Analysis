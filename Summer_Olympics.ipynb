{
  "nbformat": 4,
  "nbformat_minor": 0,
  "metadata": {
    "colab": {
      "name": "Summer Olympics.ipynb",
      "provenance": [],
      "collapsed_sections": []
    },
    "kernelspec": {
      "name": "python3",
      "display_name": "Python 3"
    },
    "language_info": {
      "name": "python"
    }
  },
  "cells": [
    {
      "cell_type": "markdown",
      "metadata": {
        "id": "3LYg1dugHBm_"
      },
      "source": [
        "## **Summer Olympics Data Analysis Assignment**"
      ]
    },
    {
      "cell_type": "code",
      "metadata": {
        "id": "VX-BGkYRG-wj"
      },
      "source": [
        "import pandas as pd"
      ],
      "execution_count": 27,
      "outputs": []
    },
    {
      "cell_type": "code",
      "metadata": {
        "id": "NTCZungUIx1b"
      },
      "source": [
        "df=pd.read_csv(\"/content/summer.csv\")"
      ],
      "execution_count": 28,
      "outputs": []
    },
    {
      "cell_type": "code",
      "metadata": {
        "colab": {
          "base_uri": "https://localhost:8080/",
          "height": 419
        },
        "id": "ziy558BWI4zw",
        "outputId": "98373268-d2e4-4daa-f55b-01d62b3db74f"
      },
      "source": [
        "df"
      ],
      "execution_count": 29,
      "outputs": [
        {
          "output_type": "execute_result",
          "data": {
            "text/html": [
              "<div>\n",
              "<style scoped>\n",
              "    .dataframe tbody tr th:only-of-type {\n",
              "        vertical-align: middle;\n",
              "    }\n",
              "\n",
              "    .dataframe tbody tr th {\n",
              "        vertical-align: top;\n",
              "    }\n",
              "\n",
              "    .dataframe thead th {\n",
              "        text-align: right;\n",
              "    }\n",
              "</style>\n",
              "<table border=\"1\" class=\"dataframe\">\n",
              "  <thead>\n",
              "    <tr style=\"text-align: right;\">\n",
              "      <th></th>\n",
              "      <th>Year</th>\n",
              "      <th>City</th>\n",
              "      <th>Sport</th>\n",
              "      <th>Discipline</th>\n",
              "      <th>Athlete</th>\n",
              "      <th>Country</th>\n",
              "      <th>Gender</th>\n",
              "      <th>Event</th>\n",
              "      <th>Medal</th>\n",
              "    </tr>\n",
              "  </thead>\n",
              "  <tbody>\n",
              "    <tr>\n",
              "      <th>0</th>\n",
              "      <td>1896</td>\n",
              "      <td>Athens</td>\n",
              "      <td>Aquatics</td>\n",
              "      <td>Swimming</td>\n",
              "      <td>HAJOS, Alfred</td>\n",
              "      <td>HUN</td>\n",
              "      <td>Men</td>\n",
              "      <td>100M Freestyle</td>\n",
              "      <td>Gold</td>\n",
              "    </tr>\n",
              "    <tr>\n",
              "      <th>1</th>\n",
              "      <td>1896</td>\n",
              "      <td>Athens</td>\n",
              "      <td>Aquatics</td>\n",
              "      <td>Swimming</td>\n",
              "      <td>HERSCHMANN, Otto</td>\n",
              "      <td>AUT</td>\n",
              "      <td>Men</td>\n",
              "      <td>100M Freestyle</td>\n",
              "      <td>Silver</td>\n",
              "    </tr>\n",
              "    <tr>\n",
              "      <th>2</th>\n",
              "      <td>1896</td>\n",
              "      <td>Athens</td>\n",
              "      <td>Aquatics</td>\n",
              "      <td>Swimming</td>\n",
              "      <td>DRIVAS, Dimitrios</td>\n",
              "      <td>GRE</td>\n",
              "      <td>Men</td>\n",
              "      <td>100M Freestyle For Sailors</td>\n",
              "      <td>Bronze</td>\n",
              "    </tr>\n",
              "    <tr>\n",
              "      <th>3</th>\n",
              "      <td>1896</td>\n",
              "      <td>Athens</td>\n",
              "      <td>Aquatics</td>\n",
              "      <td>Swimming</td>\n",
              "      <td>MALOKINIS, Ioannis</td>\n",
              "      <td>GRE</td>\n",
              "      <td>Men</td>\n",
              "      <td>100M Freestyle For Sailors</td>\n",
              "      <td>Gold</td>\n",
              "    </tr>\n",
              "    <tr>\n",
              "      <th>4</th>\n",
              "      <td>1896</td>\n",
              "      <td>Athens</td>\n",
              "      <td>Aquatics</td>\n",
              "      <td>Swimming</td>\n",
              "      <td>CHASAPIS, Spiridon</td>\n",
              "      <td>GRE</td>\n",
              "      <td>Men</td>\n",
              "      <td>100M Freestyle For Sailors</td>\n",
              "      <td>Silver</td>\n",
              "    </tr>\n",
              "    <tr>\n",
              "      <th>...</th>\n",
              "      <td>...</td>\n",
              "      <td>...</td>\n",
              "      <td>...</td>\n",
              "      <td>...</td>\n",
              "      <td>...</td>\n",
              "      <td>...</td>\n",
              "      <td>...</td>\n",
              "      <td>...</td>\n",
              "      <td>...</td>\n",
              "    </tr>\n",
              "    <tr>\n",
              "      <th>31160</th>\n",
              "      <td>2012</td>\n",
              "      <td>London</td>\n",
              "      <td>Wrestling</td>\n",
              "      <td>Wrestling Freestyle</td>\n",
              "      <td>JANIKOWSKI, Damian</td>\n",
              "      <td>POL</td>\n",
              "      <td>Men</td>\n",
              "      <td>Wg 84 KG</td>\n",
              "      <td>Bronze</td>\n",
              "    </tr>\n",
              "    <tr>\n",
              "      <th>31161</th>\n",
              "      <td>2012</td>\n",
              "      <td>London</td>\n",
              "      <td>Wrestling</td>\n",
              "      <td>Wrestling Freestyle</td>\n",
              "      <td>REZAEI, Ghasem Gholamreza</td>\n",
              "      <td>IRI</td>\n",
              "      <td>Men</td>\n",
              "      <td>Wg 96 KG</td>\n",
              "      <td>Gold</td>\n",
              "    </tr>\n",
              "    <tr>\n",
              "      <th>31162</th>\n",
              "      <td>2012</td>\n",
              "      <td>London</td>\n",
              "      <td>Wrestling</td>\n",
              "      <td>Wrestling Freestyle</td>\n",
              "      <td>TOTROV, Rustam</td>\n",
              "      <td>RUS</td>\n",
              "      <td>Men</td>\n",
              "      <td>Wg 96 KG</td>\n",
              "      <td>Silver</td>\n",
              "    </tr>\n",
              "    <tr>\n",
              "      <th>31163</th>\n",
              "      <td>2012</td>\n",
              "      <td>London</td>\n",
              "      <td>Wrestling</td>\n",
              "      <td>Wrestling Freestyle</td>\n",
              "      <td>ALEKSANYAN, Artur</td>\n",
              "      <td>ARM</td>\n",
              "      <td>Men</td>\n",
              "      <td>Wg 96 KG</td>\n",
              "      <td>Bronze</td>\n",
              "    </tr>\n",
              "    <tr>\n",
              "      <th>31164</th>\n",
              "      <td>2012</td>\n",
              "      <td>London</td>\n",
              "      <td>Wrestling</td>\n",
              "      <td>Wrestling Freestyle</td>\n",
              "      <td>LIDBERG, Jimmy</td>\n",
              "      <td>SWE</td>\n",
              "      <td>Men</td>\n",
              "      <td>Wg 96 KG</td>\n",
              "      <td>Bronze</td>\n",
              "    </tr>\n",
              "  </tbody>\n",
              "</table>\n",
              "<p>31165 rows × 9 columns</p>\n",
              "</div>"
            ],
            "text/plain": [
              "       Year    City      Sport  ... Gender                       Event   Medal\n",
              "0      1896  Athens   Aquatics  ...    Men              100M Freestyle    Gold\n",
              "1      1896  Athens   Aquatics  ...    Men              100M Freestyle  Silver\n",
              "2      1896  Athens   Aquatics  ...    Men  100M Freestyle For Sailors  Bronze\n",
              "3      1896  Athens   Aquatics  ...    Men  100M Freestyle For Sailors    Gold\n",
              "4      1896  Athens   Aquatics  ...    Men  100M Freestyle For Sailors  Silver\n",
              "...     ...     ...        ...  ...    ...                         ...     ...\n",
              "31160  2012  London  Wrestling  ...    Men                    Wg 84 KG  Bronze\n",
              "31161  2012  London  Wrestling  ...    Men                    Wg 96 KG    Gold\n",
              "31162  2012  London  Wrestling  ...    Men                    Wg 96 KG  Silver\n",
              "31163  2012  London  Wrestling  ...    Men                    Wg 96 KG  Bronze\n",
              "31164  2012  London  Wrestling  ...    Men                    Wg 96 KG  Bronze\n",
              "\n",
              "[31165 rows x 9 columns]"
            ]
          },
          "metadata": {},
          "execution_count": 29
        }
      ]
    },
    {
      "cell_type": "code",
      "metadata": {
        "colab": {
          "base_uri": "https://localhost:8080/",
          "height": 204
        },
        "id": "kxJhbvsEI9Gx",
        "outputId": "fc96e7a6-6410-4139-c1ad-511c44c0d52f"
      },
      "source": [
        "df.head()"
      ],
      "execution_count": 30,
      "outputs": [
        {
          "output_type": "execute_result",
          "data": {
            "text/html": [
              "<div>\n",
              "<style scoped>\n",
              "    .dataframe tbody tr th:only-of-type {\n",
              "        vertical-align: middle;\n",
              "    }\n",
              "\n",
              "    .dataframe tbody tr th {\n",
              "        vertical-align: top;\n",
              "    }\n",
              "\n",
              "    .dataframe thead th {\n",
              "        text-align: right;\n",
              "    }\n",
              "</style>\n",
              "<table border=\"1\" class=\"dataframe\">\n",
              "  <thead>\n",
              "    <tr style=\"text-align: right;\">\n",
              "      <th></th>\n",
              "      <th>Year</th>\n",
              "      <th>City</th>\n",
              "      <th>Sport</th>\n",
              "      <th>Discipline</th>\n",
              "      <th>Athlete</th>\n",
              "      <th>Country</th>\n",
              "      <th>Gender</th>\n",
              "      <th>Event</th>\n",
              "      <th>Medal</th>\n",
              "    </tr>\n",
              "  </thead>\n",
              "  <tbody>\n",
              "    <tr>\n",
              "      <th>0</th>\n",
              "      <td>1896</td>\n",
              "      <td>Athens</td>\n",
              "      <td>Aquatics</td>\n",
              "      <td>Swimming</td>\n",
              "      <td>HAJOS, Alfred</td>\n",
              "      <td>HUN</td>\n",
              "      <td>Men</td>\n",
              "      <td>100M Freestyle</td>\n",
              "      <td>Gold</td>\n",
              "    </tr>\n",
              "    <tr>\n",
              "      <th>1</th>\n",
              "      <td>1896</td>\n",
              "      <td>Athens</td>\n",
              "      <td>Aquatics</td>\n",
              "      <td>Swimming</td>\n",
              "      <td>HERSCHMANN, Otto</td>\n",
              "      <td>AUT</td>\n",
              "      <td>Men</td>\n",
              "      <td>100M Freestyle</td>\n",
              "      <td>Silver</td>\n",
              "    </tr>\n",
              "    <tr>\n",
              "      <th>2</th>\n",
              "      <td>1896</td>\n",
              "      <td>Athens</td>\n",
              "      <td>Aquatics</td>\n",
              "      <td>Swimming</td>\n",
              "      <td>DRIVAS, Dimitrios</td>\n",
              "      <td>GRE</td>\n",
              "      <td>Men</td>\n",
              "      <td>100M Freestyle For Sailors</td>\n",
              "      <td>Bronze</td>\n",
              "    </tr>\n",
              "    <tr>\n",
              "      <th>3</th>\n",
              "      <td>1896</td>\n",
              "      <td>Athens</td>\n",
              "      <td>Aquatics</td>\n",
              "      <td>Swimming</td>\n",
              "      <td>MALOKINIS, Ioannis</td>\n",
              "      <td>GRE</td>\n",
              "      <td>Men</td>\n",
              "      <td>100M Freestyle For Sailors</td>\n",
              "      <td>Gold</td>\n",
              "    </tr>\n",
              "    <tr>\n",
              "      <th>4</th>\n",
              "      <td>1896</td>\n",
              "      <td>Athens</td>\n",
              "      <td>Aquatics</td>\n",
              "      <td>Swimming</td>\n",
              "      <td>CHASAPIS, Spiridon</td>\n",
              "      <td>GRE</td>\n",
              "      <td>Men</td>\n",
              "      <td>100M Freestyle For Sailors</td>\n",
              "      <td>Silver</td>\n",
              "    </tr>\n",
              "  </tbody>\n",
              "</table>\n",
              "</div>"
            ],
            "text/plain": [
              "   Year    City     Sport  ... Gender                       Event   Medal\n",
              "0  1896  Athens  Aquatics  ...    Men              100M Freestyle    Gold\n",
              "1  1896  Athens  Aquatics  ...    Men              100M Freestyle  Silver\n",
              "2  1896  Athens  Aquatics  ...    Men  100M Freestyle For Sailors  Bronze\n",
              "3  1896  Athens  Aquatics  ...    Men  100M Freestyle For Sailors    Gold\n",
              "4  1896  Athens  Aquatics  ...    Men  100M Freestyle For Sailors  Silver\n",
              "\n",
              "[5 rows x 9 columns]"
            ]
          },
          "metadata": {},
          "execution_count": 30
        }
      ]
    },
    {
      "cell_type": "markdown",
      "metadata": {
        "id": "wgkDS0qzJZjH"
      },
      "source": [
        "**1. In how many cities Summer Olympics is held so far?**"
      ]
    },
    {
      "cell_type": "code",
      "metadata": {
        "colab": {
          "base_uri": "https://localhost:8080/"
        },
        "id": "efALCnmPJg6q",
        "outputId": "5f20cf91-001e-4376-f9c8-3b47ff3c6eac"
      },
      "source": [
        "df['City'].unique()"
      ],
      "execution_count": 32,
      "outputs": [
        {
          "output_type": "execute_result",
          "data": {
            "text/plain": [
              "array(['Athens', 'Paris', 'St Louis', 'London', 'Stockholm', 'Antwerp',\n",
              "       'Amsterdam', 'Los Angeles', 'Berlin', 'Helsinki',\n",
              "       'Melbourne / Stockholm', 'Rome', 'Tokyo', 'Mexico', 'Munich',\n",
              "       'Montreal', 'Moscow', 'Seoul', 'Barcelona', 'Atlanta', 'Sydney',\n",
              "       'Beijing'], dtype=object)"
            ]
          },
          "metadata": {},
          "execution_count": 32
        }
      ]
    },
    {
      "cell_type": "code",
      "metadata": {
        "colab": {
          "base_uri": "https://localhost:8080/"
        },
        "id": "L9QayvXRJkOR",
        "outputId": "c231d18b-a891-4e3e-cd7b-1a1a2e3a11d7"
      },
      "source": [
        "df['City'].nunique()"
      ],
      "execution_count": 33,
      "outputs": [
        {
          "output_type": "execute_result",
          "data": {
            "text/plain": [
              "22"
            ]
          },
          "metadata": {},
          "execution_count": 33
        }
      ]
    },
    {
      "cell_type": "markdown",
      "metadata": {
        "id": "ezeCGUQ5Jvwc"
      },
      "source": [
        "In 22 cities Summer Olympics is held so far."
      ]
    },
    {
      "cell_type": "markdown",
      "metadata": {
        "id": "YZrPRzTcJxwr"
      },
      "source": [
        "**2. Which sport is having most number of Gold Medals so far? (Top 5)**"
      ]
    },
    {
      "cell_type": "code",
      "metadata": {
        "colab": {
          "base_uri": "https://localhost:8080/"
        },
        "id": "h6sFkRVZJu-9",
        "outputId": "5cf0da95-6f79-45c7-a4f7-128c129849eb"
      },
      "source": [
        "df[df['Medal']=='Gold'].groupby(\"Sport\").count()['Medal'].sort_values(ascending=False).head()"
      ],
      "execution_count": 34,
      "outputs": [
        {
          "output_type": "execute_result",
          "data": {
            "text/plain": [
              "Sport\n",
              "Aquatics      1421\n",
              "Athletics     1215\n",
              "Rowing         890\n",
              "Gymnastics     820\n",
              "Fencing        552\n",
              "Name: Medal, dtype: int64"
            ]
          },
          "metadata": {},
          "execution_count": 34
        }
      ]
    },
    {
      "cell_type": "code",
      "metadata": {
        "colab": {
          "base_uri": "https://localhost:8080/",
          "height": 399
        },
        "id": "0foeufinJ84C",
        "outputId": "0d59bdf0-0060-470e-9490-0b2328194320"
      },
      "source": [
        "df[df['Medal']=='Gold'].groupby(\"Sport\").count()['Medal'].sort_values(ascending=False).head().plot.bar(figsize = (15,5))"
      ],
      "execution_count": 35,
      "outputs": [
        {
          "output_type": "execute_result",
          "data": {
            "text/plain": [
              "<matplotlib.axes._subplots.AxesSubplot at 0x7f4dd256f890>"
            ]
          },
          "metadata": {},
          "execution_count": 35
        },
        {
          "output_type": "display_data",
          "data": {
            "image/png": "[encoded data removed]",
            "text/plain": [
              "<Figure size 1080x360 with 1 Axes>"
            ]
          },
          "metadata": {
            "needs_background": "light"
          }
        }
      ]
    },
    {
      "cell_type": "markdown",
      "metadata": {
        "id": "AcGNMSDEKAaA"
      },
      "source": [
        "Aquatics is having most number of Gold Medals so far."
      ]
    },
    {
      "cell_type": "markdown",
      "metadata": {
        "id": "JBcDE1N0KDix"
      },
      "source": [
        "**3. Which sport is having most number of medals so far? (Top 5)**"
      ]
    },
    {
      "cell_type": "code",
      "metadata": {
        "colab": {
          "base_uri": "https://localhost:8080/",
          "height": 204
        },
        "id": "kcmtq36sKGFx",
        "outputId": "ab6ce838-9ef3-48f4-a736-4af1be90cf88"
      },
      "source": [
        "data = []\n",
        "\n",
        "for Sport in df['Sport'].unique():\n",
        "    data.append([Sport ,len(df[df['Sport']  == Sport])])\n",
        "pd.DataFrame(data,columns = ['Sport','Medal']).sort_values(by='Medal', ascending=False).head()"
      ],
      "execution_count": 36,
      "outputs": [
        {
          "output_type": "execute_result",
          "data": {
            "text/html": [
              "<div>\n",
              "<style scoped>\n",
              "    .dataframe tbody tr th:only-of-type {\n",
              "        vertical-align: middle;\n",
              "    }\n",
              "\n",
              "    .dataframe tbody tr th {\n",
              "        vertical-align: top;\n",
              "    }\n",
              "\n",
              "    .dataframe thead th {\n",
              "        text-align: right;\n",
              "    }\n",
              "</style>\n",
              "<table border=\"1\" class=\"dataframe\">\n",
              "  <thead>\n",
              "    <tr style=\"text-align: right;\">\n",
              "      <th></th>\n",
              "      <th>Sport</th>\n",
              "      <th>Medal</th>\n",
              "    </tr>\n",
              "  </thead>\n",
              "  <tbody>\n",
              "    <tr>\n",
              "      <th>0</th>\n",
              "      <td>Aquatics</td>\n",
              "      <td>4170</td>\n",
              "    </tr>\n",
              "    <tr>\n",
              "      <th>1</th>\n",
              "      <td>Athletics</td>\n",
              "      <td>3638</td>\n",
              "    </tr>\n",
              "    <tr>\n",
              "      <th>17</th>\n",
              "      <td>Rowing</td>\n",
              "      <td>2667</td>\n",
              "    </tr>\n",
              "    <tr>\n",
              "      <th>4</th>\n",
              "      <td>Gymnastics</td>\n",
              "      <td>2307</td>\n",
              "    </tr>\n",
              "    <tr>\n",
              "      <th>3</th>\n",
              "      <td>Fencing</td>\n",
              "      <td>1613</td>\n",
              "    </tr>\n",
              "  </tbody>\n",
              "</table>\n",
              "</div>"
            ],
            "text/plain": [
              "         Sport  Medal\n",
              "0     Aquatics   4170\n",
              "1    Athletics   3638\n",
              "17      Rowing   2667\n",
              "4   Gymnastics   2307\n",
              "3      Fencing   1613"
            ]
          },
          "metadata": {},
          "execution_count": 36
        }
      ]
    },
    {
      "cell_type": "code",
      "metadata": {
        "colab": {
          "base_uri": "https://localhost:8080/",
          "height": 399
        },
        "id": "VE9TtFb8KJae",
        "outputId": "ad07a74b-db6e-45ac-9bb5-b393d84c2d4e"
      },
      "source": [
        "pd.DataFrame(data,columns = ['Sport','Medal']).sort_values(by='Medal', ascending=False).head().plot(x = 'Sport', y = 'Medal', kind = 'bar', figsize = (20,5))"
      ],
      "execution_count": 37,
      "outputs": [
        {
          "output_type": "execute_result",
          "data": {
            "text/plain": [
              "<matplotlib.axes._subplots.AxesSubplot at 0x7f4dd2660250>"
            ]
          },
          "metadata": {},
          "execution_count": 37
        },
        {
          "output_type": "display_data",
          "data": {
            "image/png": "[encoded data removed]",
            "text/plain": [
              "<Figure size 1440x360 with 1 Axes>"
            ]
          },
          "metadata": {
            "needs_background": "light"
          }
        }
      ]
    },
    {
      "cell_type": "markdown",
      "metadata": {
        "id": "l78vCW43KPKH"
      },
      "source": [
        "Aquatics is having most number of medals."
      ]
    },
    {
      "cell_type": "markdown",
      "metadata": {
        "id": "DwIhaiUJKQE2"
      },
      "source": [
        "**4. Which player has won most number of medals? (Top 5)**"
      ]
    },
    {
      "cell_type": "code",
      "metadata": {
        "colab": {
          "base_uri": "https://localhost:8080/",
          "height": 204
        },
        "id": "KmLuEa53KTRG",
        "outputId": "ac29b0e4-cd57-4a1e-ce05-44d01e8778b8"
      },
      "source": [
        "data = []\n",
        "\n",
        "for Athlete in df['Athlete'].unique():\n",
        "    data.append([Athlete ,len(df[df['Athlete']  == Athlete])])\n",
        "pd.DataFrame(data,columns = ['Athlete','Medal']).sort_values(by='Medal', ascending=False).head()"
      ],
      "execution_count": 38,
      "outputs": [
        {
          "output_type": "execute_result",
          "data": {
            "text/html": [
              "<div>\n",
              "<style scoped>\n",
              "    .dataframe tbody tr th:only-of-type {\n",
              "        vertical-align: middle;\n",
              "    }\n",
              "\n",
              "    .dataframe tbody tr th {\n",
              "        vertical-align: top;\n",
              "    }\n",
              "\n",
              "    .dataframe thead th {\n",
              "        text-align: right;\n",
              "    }\n",
              "</style>\n",
              "<table border=\"1\" class=\"dataframe\">\n",
              "  <thead>\n",
              "    <tr style=\"text-align: right;\">\n",
              "      <th></th>\n",
              "      <th>Athlete</th>\n",
              "      <th>Medal</th>\n",
              "    </tr>\n",
              "  </thead>\n",
              "  <tbody>\n",
              "    <tr>\n",
              "      <th>18640</th>\n",
              "      <td>PHELPS, Michael</td>\n",
              "      <td>22</td>\n",
              "    </tr>\n",
              "    <tr>\n",
              "      <th>7197</th>\n",
              "      <td>LATYNINA, Larisa</td>\n",
              "      <td>18</td>\n",
              "    </tr>\n",
              "    <tr>\n",
              "      <th>9948</th>\n",
              "      <td>ANDRIANOV, Nikolay</td>\n",
              "      <td>15</td>\n",
              "    </tr>\n",
              "    <tr>\n",
              "      <th>6591</th>\n",
              "      <td>ONO, Takashi</td>\n",
              "      <td>13</td>\n",
              "    </tr>\n",
              "    <tr>\n",
              "      <th>5103</th>\n",
              "      <td>MANGIAROTTI, Edoardo</td>\n",
              "      <td>13</td>\n",
              "    </tr>\n",
              "  </tbody>\n",
              "</table>\n",
              "</div>"
            ],
            "text/plain": [
              "                    Athlete  Medal\n",
              "18640       PHELPS, Michael     22\n",
              "7197       LATYNINA, Larisa     18\n",
              "9948     ANDRIANOV, Nikolay     15\n",
              "6591           ONO, Takashi     13\n",
              "5103   MANGIAROTTI, Edoardo     13"
            ]
          },
          "metadata": {},
          "execution_count": 38
        }
      ]
    },
    {
      "cell_type": "code",
      "metadata": {
        "colab": {
          "base_uri": "https://localhost:8080/",
          "height": 458
        },
        "id": "zZppR0QZKYE_",
        "outputId": "56912ff8-e541-48fb-a4e7-4bc13ae4eee4"
      },
      "source": [
        "pd.DataFrame(data,columns = ['Athlete','Medal']).sort_values(by='Medal', ascending=False).head().plot(x = 'Athlete', y = 'Medal', kind = 'bar', figsize = (20,5))"
      ],
      "execution_count": 39,
      "outputs": [
        {
          "output_type": "execute_result",
          "data": {
            "text/plain": [
              "<matplotlib.axes._subplots.AxesSubplot at 0x7f4dd254a910>"
            ]
          },
          "metadata": {},
          "execution_count": 39
        },
        {
          "output_type": "display_data",
          "data": {
            "image/png": "[encoded data removed]",
            "text/plain": [
              "<Figure size 1440x360 with 1 Axes>"
            ]
          },
          "metadata": {
            "needs_background": "light"
          }
        }
      ]
    },
    {
      "cell_type": "markdown",
      "metadata": {
        "id": "ATHpE_byKZMA"
      },
      "source": [
        "PHELPS,Michael has won most number of medals."
      ]
    },
    {
      "cell_type": "markdown",
      "metadata": {
        "id": "cpINEZUaKb-A"
      },
      "source": [
        "**5. Which player has won most number Gold Medals of medals? (Top 5)**"
      ]
    },
    {
      "cell_type": "code",
      "metadata": {
        "colab": {
          "base_uri": "https://localhost:8080/"
        },
        "id": "hIVlLK3eKfKO",
        "outputId": "5f305a61-a961-4a16-b5fb-b4d3ed44e301"
      },
      "source": [
        "df[df['Medal']=='Gold'].groupby(\"Athlete\").count()['Medal'].sort_values(ascending=False).head()"
      ],
      "execution_count": 40,
      "outputs": [
        {
          "output_type": "execute_result",
          "data": {
            "text/plain": [
              "Athlete\n",
              "PHELPS, Michael     18\n",
              "NURMI, Paavo         9\n",
              "SPITZ, Mark          9\n",
              "LEWIS, Carl          9\n",
              "LATYNINA, Larisa     9\n",
              "Name: Medal, dtype: int64"
            ]
          },
          "metadata": {},
          "execution_count": 40
        }
      ]
    },
    {
      "cell_type": "code",
      "metadata": {
        "colab": {
          "base_uri": "https://localhost:8080/",
          "height": 426
        },
        "id": "pEA6nzH4KjL6",
        "outputId": "bc77a714-07ec-4379-88f4-30af1a1664b4"
      },
      "source": [
        "df[df['Medal']=='Gold'].groupby(\"Athlete\").count()['Medal'].sort_values(ascending=False).head().plot.bar(figsize = (15,5))"
      ],
      "execution_count": 41,
      "outputs": [
        {
          "output_type": "execute_result",
          "data": {
            "text/plain": [
              "<matplotlib.axes._subplots.AxesSubplot at 0x7f4dd2249190>"
            ]
          },
          "metadata": {},
          "execution_count": 41
        },
        {
          "output_type": "display_data",
          "data": {
            "image/png": "[encoded data removed]",
            "text/plain": [
              "<Figure size 1080x360 with 1 Axes>"
            ]
          },
          "metadata": {
            "needs_background": "light"
          }
        }
      ]
    },
    {
      "cell_type": "markdown",
      "metadata": {
        "id": "sw_IxKhMK4Bu"
      },
      "source": [
        "PHELPS, Michael has won most number Gold Medals of medals."
      ]
    },
    {
      "cell_type": "markdown",
      "metadata": {
        "id": "ckGEuSFdK7lY"
      },
      "source": [
        "**6. In which year India won first Gold Medal in Summer Olympics?**"
      ]
    },
    {
      "cell_type": "code",
      "metadata": {
        "colab": {
          "base_uri": "https://localhost:8080/",
          "height": 204
        },
        "id": "HwRIg09tK7UO",
        "outputId": "70bc8d4f-e49d-4383-c010-c2def11d55d3"
      },
      "source": [
        "df[(df['Medal']=='Gold') & (df['Country']=='IND')].sort_values(by=['Year'], ascending=True).head()"
      ],
      "execution_count": 42,
      "outputs": [
        {
          "output_type": "execute_result",
          "data": {
            "text/html": [
              "<div>\n",
              "<style scoped>\n",
              "    .dataframe tbody tr th:only-of-type {\n",
              "        vertical-align: middle;\n",
              "    }\n",
              "\n",
              "    .dataframe tbody tr th {\n",
              "        vertical-align: top;\n",
              "    }\n",
              "\n",
              "    .dataframe thead th {\n",
              "        text-align: right;\n",
              "    }\n",
              "</style>\n",
              "<table border=\"1\" class=\"dataframe\">\n",
              "  <thead>\n",
              "    <tr style=\"text-align: right;\">\n",
              "      <th></th>\n",
              "      <th>Year</th>\n",
              "      <th>City</th>\n",
              "      <th>Sport</th>\n",
              "      <th>Discipline</th>\n",
              "      <th>Athlete</th>\n",
              "      <th>Country</th>\n",
              "      <th>Gender</th>\n",
              "      <th>Event</th>\n",
              "      <th>Medal</th>\n",
              "    </tr>\n",
              "  </thead>\n",
              "  <tbody>\n",
              "    <tr>\n",
              "      <th>5512</th>\n",
              "      <td>1928</td>\n",
              "      <td>Amsterdam</td>\n",
              "      <td>Hockey</td>\n",
              "      <td>Hockey</td>\n",
              "      <td>ALLEN, Richard James</td>\n",
              "      <td>IND</td>\n",
              "      <td>Men</td>\n",
              "      <td>Hockey</td>\n",
              "      <td>Gold</td>\n",
              "    </tr>\n",
              "    <tr>\n",
              "      <th>5526</th>\n",
              "      <td>1928</td>\n",
              "      <td>Amsterdam</td>\n",
              "      <td>Hockey</td>\n",
              "      <td>Hockey</td>\n",
              "      <td>YUSUF, Sayed Mohamed</td>\n",
              "      <td>IND</td>\n",
              "      <td>Men</td>\n",
              "      <td>Hockey</td>\n",
              "      <td>Gold</td>\n",
              "    </tr>\n",
              "    <tr>\n",
              "      <th>5525</th>\n",
              "      <td>1928</td>\n",
              "      <td>Amsterdam</td>\n",
              "      <td>Hockey</td>\n",
              "      <td>Hockey</td>\n",
              "      <td>SINGH, Jaipal</td>\n",
              "      <td>IND</td>\n",
              "      <td>Men</td>\n",
              "      <td>Hockey</td>\n",
              "      <td>Gold</td>\n",
              "    </tr>\n",
              "    <tr>\n",
              "      <th>5524</th>\n",
              "      <td>1928</td>\n",
              "      <td>Amsterdam</td>\n",
              "      <td>Hockey</td>\n",
              "      <td>Hockey</td>\n",
              "      <td>SHAUKAT, Ali</td>\n",
              "      <td>IND</td>\n",
              "      <td>Men</td>\n",
              "      <td>Hockey</td>\n",
              "      <td>Gold</td>\n",
              "    </tr>\n",
              "    <tr>\n",
              "      <th>5523</th>\n",
              "      <td>1928</td>\n",
              "      <td>Amsterdam</td>\n",
              "      <td>Hockey</td>\n",
              "      <td>Hockey</td>\n",
              "      <td>SEAMAN, Frederic S.</td>\n",
              "      <td>IND</td>\n",
              "      <td>Men</td>\n",
              "      <td>Hockey</td>\n",
              "      <td>Gold</td>\n",
              "    </tr>\n",
              "  </tbody>\n",
              "</table>\n",
              "</div>"
            ],
            "text/plain": [
              "      Year       City   Sport Discipline  ... Country Gender   Event Medal\n",
              "5512  1928  Amsterdam  Hockey     Hockey  ...     IND    Men  Hockey  Gold\n",
              "5526  1928  Amsterdam  Hockey     Hockey  ...     IND    Men  Hockey  Gold\n",
              "5525  1928  Amsterdam  Hockey     Hockey  ...     IND    Men  Hockey  Gold\n",
              "5524  1928  Amsterdam  Hockey     Hockey  ...     IND    Men  Hockey  Gold\n",
              "5523  1928  Amsterdam  Hockey     Hockey  ...     IND    Men  Hockey  Gold\n",
              "\n",
              "[5 rows x 9 columns]"
            ]
          },
          "metadata": {},
          "execution_count": 42
        }
      ]
    },
    {
      "cell_type": "markdown",
      "metadata": {
        "id": "VdjS1DW-LG6X"
      },
      "source": [
        "In 1928 India won first Gold Medal in Summer Olympics."
      ]
    },
    {
      "cell_type": "markdown",
      "metadata": {
        "id": "Up83F1SoLGxh"
      },
      "source": [
        "**7. Which event is most popular in terms of number of players? (Top 5)**"
      ]
    },
    {
      "cell_type": "code",
      "metadata": {
        "colab": {
          "base_uri": "https://localhost:8080/",
          "height": 204
        },
        "id": "_q6utU8sLGJh",
        "outputId": "1d603a38-09de-4553-ec10-433366e0965c"
      },
      "source": [
        "data = []\n",
        "\n",
        "for Event in df['Event'].unique():\n",
        "    data.append([Event ,len(df[df['Event']  == Event])])\n",
        "pd.DataFrame(data,columns = ['Event','Athlete']).sort_values(by='Athlete', ascending=False).head()"
      ],
      "execution_count": 43,
      "outputs": [
        {
          "output_type": "execute_result",
          "data": {
            "text/html": [
              "<div>\n",
              "<style scoped>\n",
              "    .dataframe tbody tr th:only-of-type {\n",
              "        vertical-align: middle;\n",
              "    }\n",
              "\n",
              "    .dataframe tbody tr th {\n",
              "        vertical-align: top;\n",
              "    }\n",
              "\n",
              "    .dataframe thead th {\n",
              "        text-align: right;\n",
              "    }\n",
              "</style>\n",
              "<table border=\"1\" class=\"dataframe\">\n",
              "  <thead>\n",
              "    <tr style=\"text-align: right;\">\n",
              "      <th></th>\n",
              "      <th>Event</th>\n",
              "      <th>Athlete</th>\n",
              "    </tr>\n",
              "  </thead>\n",
              "  <tbody>\n",
              "    <tr>\n",
              "      <th>80</th>\n",
              "      <td>Football</td>\n",
              "      <td>1497</td>\n",
              "    </tr>\n",
              "    <tr>\n",
              "      <th>176</th>\n",
              "      <td>Hockey</td>\n",
              "      <td>1422</td>\n",
              "    </tr>\n",
              "    <tr>\n",
              "      <th>138</th>\n",
              "      <td>Team Competition</td>\n",
              "      <td>1147</td>\n",
              "    </tr>\n",
              "    <tr>\n",
              "      <th>327</th>\n",
              "      <td>Basketball</td>\n",
              "      <td>1012</td>\n",
              "    </tr>\n",
              "    <tr>\n",
              "      <th>337</th>\n",
              "      <td>Handball</td>\n",
              "      <td>973</td>\n",
              "    </tr>\n",
              "  </tbody>\n",
              "</table>\n",
              "</div>"
            ],
            "text/plain": [
              "                Event  Athlete\n",
              "80           Football     1497\n",
              "176            Hockey     1422\n",
              "138  Team Competition     1147\n",
              "327        Basketball     1012\n",
              "337          Handball      973"
            ]
          },
          "metadata": {},
          "execution_count": 43
        }
      ]
    },
    {
      "cell_type": "code",
      "metadata": {
        "colab": {
          "base_uri": "https://localhost:8080/",
          "height": 431
        },
        "id": "3D4nXI6WLRPw",
        "outputId": "f4680d26-28bd-47a8-d19b-7047beb46bc9"
      },
      "source": [
        "pd.DataFrame(data,columns = ['Event','Athlete']).sort_values(by='Athlete', ascending=False).head().plot(x = 'Event', y = 'Athlete', kind = 'bar', figsize = (20,5))"
      ],
      "execution_count": 44,
      "outputs": [
        {
          "output_type": "execute_result",
          "data": {
            "text/plain": [
              "<matplotlib.axes._subplots.AxesSubplot at 0x7f4dd21ce750>"
            ]
          },
          "metadata": {},
          "execution_count": 44
        },
        {
          "output_type": "display_data",
          "data": {
            "image/png": "[encoded data removed]",
            "text/plain": [
              "<Figure size 1440x360 with 1 Axes>"
            ]
          },
          "metadata": {
            "needs_background": "light"
          }
        }
      ]
    },
    {
      "cell_type": "markdown",
      "metadata": {
        "id": "1FOCx2oELWC8"
      },
      "source": [
        "Football (event) is most popular in terms of number of players."
      ]
    },
    {
      "cell_type": "markdown",
      "metadata": {
        "id": "F9nv0fyALWLH"
      },
      "source": [
        "**8. Which sport is having most female Gold Medalists? (Top 5)**"
      ]
    },
    {
      "cell_type": "code",
      "metadata": {
        "colab": {
          "base_uri": "https://localhost:8080/"
        },
        "id": "ToHZupyGLVgP",
        "outputId": "f1202005-0c18-4ed2-97c8-5af0e742db9c"
      },
      "source": [
        "df[(df['Medal']=='Gold') & (df['Gender']=='Women')].groupby(\"Sport\").count()['Medal'].sort_values(ascending=False).head()"
      ],
      "execution_count": 45,
      "outputs": [
        {
          "output_type": "execute_result",
          "data": {
            "text/plain": [
              "Sport\n",
              "Aquatics      589\n",
              "Athletics     389\n",
              "Gymnastics    268\n",
              "Rowing        217\n",
              "Volleyball    166\n",
              "Name: Medal, dtype: int64"
            ]
          },
          "metadata": {},
          "execution_count": 45
        }
      ]
    },
    {
      "cell_type": "code",
      "metadata": {
        "colab": {
          "base_uri": "https://localhost:8080/",
          "height": 399
        },
        "id": "su24bGIzLVqP",
        "outputId": "254ca026-2f50-4e58-b3c4-e01cae47a54b"
      },
      "source": [
        "df[(df['Medal']=='Gold') & (df['Gender']=='Women')].groupby(\"Sport\").count()['Medal'].sort_values(ascending=False).head().plot.bar(figsize = (15,5))"
      ],
      "execution_count": 46,
      "outputs": [
        {
          "output_type": "execute_result",
          "data": {
            "text/plain": [
              "<matplotlib.axes._subplots.AxesSubplot at 0x7f4dd21ce690>"
            ]
          },
          "metadata": {},
          "execution_count": 46
        },
        {
          "output_type": "display_data",
          "data": {
            "image/png": "[encoded data removed]",
            "text/plain": [
              "<Figure size 1080x360 with 1 Axes>"
            ]
          },
          "metadata": {
            "needs_background": "light"
          }
        }
      ]
    },
    {
      "cell_type": "markdown",
      "metadata": {
        "id": "lIioCQlwLvQO"
      },
      "source": [
        "Aquatics is having most number of female gold medalists."
      ]
    }
  ]
}